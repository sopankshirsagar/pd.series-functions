{
 "cells": [
  {
   "cell_type": "code",
   "execution_count": 1,
   "id": "91095a6d",
   "metadata": {},
   "outputs": [],
   "source": [
    "#datastructure 1) Series 2) DataFrame \n"
   ]
  },
  {
   "cell_type": "code",
   "execution_count": 2,
   "id": "56795967",
   "metadata": {},
   "outputs": [
    {
     "data": {
      "text/plain": [
       "0    p\n",
       "1    t\n",
       "2    h\n",
       "3    o\n",
       "4    n\n",
       "dtype: object"
      ]
     },
     "execution_count": 2,
     "metadata": {},
     "output_type": "execute_result"
    }
   ],
   "source": [
    "# Series \n",
    "import pandas as pd \n",
    "import numpy as np\n",
    "a=np.array(['p','t','h','o','n'])\n",
    "s=pd.Series(a)\n",
    "s"
   ]
  },
  {
   "cell_type": "code",
   "execution_count": 3,
   "id": "f70c149d",
   "metadata": {},
   "outputs": [
    {
     "data": {
      "text/html": [
       "<div>\n",
       "<style scoped>\n",
       "    .dataframe tbody tr th:only-of-type {\n",
       "        vertical-align: middle;\n",
       "    }\n",
       "\n",
       "    .dataframe tbody tr th {\n",
       "        vertical-align: top;\n",
       "    }\n",
       "\n",
       "    .dataframe thead th {\n",
       "        text-align: right;\n",
       "    }\n",
       "</style>\n",
       "<table border=\"1\" class=\"dataframe\">\n",
       "  <thead>\n",
       "    <tr style=\"text-align: right;\">\n",
       "      <th></th>\n",
       "      <th>0</th>\n",
       "    </tr>\n",
       "  </thead>\n",
       "  <tbody>\n",
       "    <tr>\n",
       "      <th>0</th>\n",
       "      <td>sopan</td>\n",
       "    </tr>\n",
       "    <tr>\n",
       "      <th>1</th>\n",
       "      <td>kshirsagar</td>\n",
       "    </tr>\n",
       "  </tbody>\n",
       "</table>\n",
       "</div>"
      ],
      "text/plain": [
       "            0\n",
       "0       sopan\n",
       "1  kshirsagar"
      ]
     },
     "execution_count": 3,
     "metadata": {},
     "output_type": "execute_result"
    }
   ],
   "source": [
    "#  DataFrame 2D\n",
    "x=['sopan','kshirsagar']\n",
    "df=pd.DataFrame(x)\n",
    "df"
   ]
  },
  {
   "cell_type": "code",
   "execution_count": 4,
   "id": "48e2bdc3",
   "metadata": {},
   "outputs": [
    {
     "name": "stdout",
     "output_type": "stream",
     "text": [
      "3\n"
     ]
    }
   ],
   "source": [
    "# 1) Series \n",
    "x={'q':23,\"b\":26,\"c\":32}\n",
    "pd.Series(x)\n",
    "\n",
    "y=pd.Series(3,index=[0,2,3,])\n",
    "print(y[0])"
   ]
  },
  {
   "cell_type": "code",
   "execution_count": 24,
   "id": "c5781520",
   "metadata": {},
   "outputs": [
    {
     "ename": "SyntaxError",
     "evalue": "closing parenthesis '}' does not match opening parenthesis '[' on line 3 (692676180.py, line 6)",
     "output_type": "error",
     "traceback": [
      "\u001b[1;36m  Cell \u001b[1;32mIn[24], line 6\u001b[1;36m\u001b[0m\n\u001b[1;33m    'It returns the size of the datatype of item'}\u001b[0m\n\u001b[1;37m                                                 ^\u001b[0m\n\u001b[1;31mSyntaxError\u001b[0m\u001b[1;31m:\u001b[0m closing parenthesis '}' does not match opening parenthesis '[' on line 3\n"
     ]
    }
   ],
   "source": [
    "#functions / just run the cell nd learn \n",
    "funcs=pd.Series({\"Attributes\":['Series.index','Series.shape','Series.dtype','Series.size','Series.empty','Series.hasnans','Series.nbytes','Series.ndim','Series.itemsize'],index=True})\n",
    "       \"Description \":[\"Defines the index of the Series.\",'It returns a tuple of shape of the data',\n",
    "                       'It returns the data type of the data.','It returns the size of the data.','It returns True if Series object is empty, otherwise returns false.',\n",
    "                       'It returns True if there are any NaN values, otherwise returns false','It returns the number of bytes in the data.','It returns the number of dimensions in the data',\n",
    "                       'It returns the size of the datatype of item']\n",
    "df=pd.DataFrame(funcs)\n",
    "df"
   ]
  },
  {
   "cell_type": "markdown",
   "id": "8b5facf6",
   "metadata": {},
   "source": []
  },
  {
   "cell_type": "code",
   "execution_count": 6,
   "id": "5660390f",
   "metadata": {},
   "outputs": [
    {
     "data": {
      "text/plain": [
       "array([11.2 , 12.  , 32.32])"
      ]
     },
     "execution_count": 6,
     "metadata": {},
     "output_type": "execute_result"
    }
   ],
   "source": [
    "#index \n",
    "x=pd.Series(data=[2,4,6,8])\n",
    "z=pd.Series(data=[11.2,12,32.32],index=['a','b','c'])\n",
    "x.index\n",
    "x.values\n",
    "z.index\n",
    "z.values"
   ]
  },
  {
   "cell_type": "code",
   "execution_count": 7,
   "id": "9a981f17",
   "metadata": {},
   "outputs": [
    {
     "data": {
      "text/plain": [
       "dtype('int64')"
      ]
     },
     "execution_count": 7,
     "metadata": {},
     "output_type": "execute_result"
    }
   ],
   "source": [
    "#dtype itemsize in bytes \n",
    "x.dtype\n",
    "# print(x.itemsize)"
   ]
  },
  {
   "cell_type": "code",
   "execution_count": 8,
   "id": "f8605bf1",
   "metadata": {},
   "outputs": [
    {
     "data": {
      "text/plain": [
       "(4,)"
      ]
     },
     "execution_count": 8,
     "metadata": {},
     "output_type": "execute_result"
    }
   ],
   "source": [
    "x.shape"
   ]
  },
  {
   "cell_type": "code",
   "execution_count": 9,
   "id": "5183da09",
   "metadata": {},
   "outputs": [
    {
     "data": {
      "text/plain": [
       "(32, 24)"
      ]
     },
     "execution_count": 9,
     "metadata": {},
     "output_type": "execute_result"
    }
   ],
   "source": [
    "#dimention size numof bytes \n",
    "x=pd.Series(data=[2,4,6,8])\n",
    "z=pd.Series(data=[11.2,12,32.32],index=['a','b','c'])\n",
    "x.ndim,z.ndim\n",
    "x.size,z.size\n",
    "x.nbytes,z.nbytes"
   ]
  },
  {
   "cell_type": "code",
   "execution_count": 10,
   "id": "44a802f8",
   "metadata": {},
   "outputs": [
    {
     "name": "stdout",
     "output_type": "stream",
     "text": [
      "False False True\n",
      "True False False\n",
      "5 3 0\n"
     ]
    },
    {
     "name": "stderr",
     "output_type": "stream",
     "text": [
      "C:\\Users\\sopan\\AppData\\Local\\Temp\\ipykernel_21104\\2052345544.py:4: FutureWarning: The default dtype for empty Series will be 'object' instead of 'float64' in a future version. Specify a dtype explicitly to silence this warning.\n",
      "  y=pd.Series()\n"
     ]
    },
    {
     "data": {
      "text/plain": [
       "4"
      ]
     },
     "execution_count": 10,
     "metadata": {},
     "output_type": "execute_result"
    }
   ],
   "source": [
    "#empty and  presence of NANs\n",
    "x=pd.Series(data=[2,4,6,8,np.NaN])\n",
    "z=pd.Series(data=[11.2,12,32.32],index=['a','b','c'])\n",
    "y=pd.Series()\n",
    "print(x.empty,z.empty,y.empty)\n",
    "print(x.hasnans,z.hasnans,y.hasnans)\n",
    "print(len(x),len(z),len(y))\n",
    "x.count()"
   ]
  },
  {
   "cell_type": "code",
   "execution_count": 11,
   "id": "db3c43b8",
   "metadata": {},
   "outputs": [
    {
     "data": {
      "text/html": [
       "<div>\n",
       "<style scoped>\n",
       "    .dataframe tbody tr th:only-of-type {\n",
       "        vertical-align: middle;\n",
       "    }\n",
       "\n",
       "    .dataframe tbody tr th {\n",
       "        vertical-align: top;\n",
       "    }\n",
       "\n",
       "    .dataframe thead th {\n",
       "        text-align: right;\n",
       "    }\n",
       "</style>\n",
       "<table border=\"1\" class=\"dataframe\">\n",
       "  <thead>\n",
       "    <tr style=\"text-align: right;\">\n",
       "      <th></th>\n",
       "      <th>0</th>\n",
       "    </tr>\n",
       "  </thead>\n",
       "  <tbody>\n",
       "    <tr>\n",
       "      <th>a</th>\n",
       "      <td>11.20</td>\n",
       "    </tr>\n",
       "    <tr>\n",
       "      <th>b</th>\n",
       "      <td>12.00</td>\n",
       "    </tr>\n",
       "    <tr>\n",
       "      <th>c</th>\n",
       "      <td>32.32</td>\n",
       "    </tr>\n",
       "  </tbody>\n",
       "</table>\n",
       "</div>"
      ],
      "text/plain": [
       "       0\n",
       "a  11.20\n",
       "b  12.00\n",
       "c  32.32"
      ]
     },
     "execution_count": 11,
     "metadata": {},
     "output_type": "execute_result"
    }
   ],
   "source": [
    "# Series to DataFrame \n",
    "z.to_frame()"
   ]
  },
  {
   "cell_type": "code",
   "execution_count": 12,
   "id": "1c659ad8",
   "metadata": {},
   "outputs": [
    {
     "data": {
      "text/html": [
       "<div>\n",
       "<style scoped>\n",
       "    .dataframe tbody tr th:only-of-type {\n",
       "        vertical-align: middle;\n",
       "    }\n",
       "\n",
       "    .dataframe tbody tr th {\n",
       "        vertical-align: top;\n",
       "    }\n",
       "\n",
       "    .dataframe thead th {\n",
       "        text-align: right;\n",
       "    }\n",
       "</style>\n",
       "<table border=\"1\" class=\"dataframe\">\n",
       "  <thead>\n",
       "    <tr style=\"text-align: right;\">\n",
       "      <th></th>\n",
       "      <th>Info</th>\n",
       "    </tr>\n",
       "  </thead>\n",
       "  <tbody>\n",
       "    <tr>\n",
       "      <th>101</th>\n",
       "      <td>sopan</td>\n",
       "    </tr>\n",
       "    <tr>\n",
       "      <th>102</th>\n",
       "      <td>shubham</td>\n",
       "    </tr>\n",
       "    <tr>\n",
       "      <th>103</th>\n",
       "      <td>pavan</td>\n",
       "    </tr>\n",
       "  </tbody>\n",
       "</table>\n",
       "</div>"
      ],
      "text/plain": [
       "        Info\n",
       "101    sopan\n",
       "102  shubham\n",
       "103    pavan"
      ]
     },
     "execution_count": 12,
     "metadata": {},
     "output_type": "execute_result"
    }
   ],
   "source": [
    "name=['sopan','shubham','pavan']\n",
    "ide=[101,102,103]\n",
    "n=pd.Series(name,ide)\n",
    "n2={'Info':n}\n",
    "frm=pd.DataFrame(n2)\n",
    "frm"
   ]
  },
  {
   "cell_type": "code",
   "execution_count": 13,
   "id": "5b063f54",
   "metadata": {},
   "outputs": [
    {
     "data": {
      "text/plain": [
       "5.0    2\n",
       "3.0    1\n",
       "4.0    1\n",
       "dtype: int64"
      ]
     },
     "execution_count": 13,
     "metadata": {},
     "output_type": "execute_result"
    }
   ],
   "source": [
    "# value count \n",
    "x2=pd.Index([3,4,5,5,np.nan])\n",
    "x2.value_counts() "
   ]
  },
  {
   "cell_type": "code",
   "execution_count": 14,
   "id": "2560b7d6",
   "metadata": {},
   "outputs": [
    {
     "data": {
      "text/plain": [
       "5.0    0.50\n",
       "3.0    0.25\n",
       "4.0    0.25\n",
       "dtype: float64"
      ]
     },
     "execution_count": 14,
     "metadata": {},
     "output_type": "execute_result"
    }
   ],
   "source": [
    "# Normalize equal divide / percent\n",
    "x2.value_counts(normalize=True)"
   ]
  },
  {
   "cell_type": "code",
   "execution_count": 15,
   "id": "8990c666",
   "metadata": {},
   "outputs": [
    {
     "data": {
      "text/plain": [
       "(2.9970000000000003, 4.0]    2\n",
       "(4.0, 5.0]                   2\n",
       "dtype: int64"
      ]
     },
     "execution_count": 15,
     "metadata": {},
     "output_type": "execute_result"
    }
   ],
   "source": [
    "# bins  / creat groups of values /work only with numeric data \n",
    "x2.value_counts(bins=2)"
   ]
  },
  {
   "cell_type": "code",
   "execution_count": 16,
   "id": "d9bb8a9e",
   "metadata": {},
   "outputs": [
    {
     "data": {
      "text/plain": [
       "5.0    2\n",
       "3.0    1\n",
       "4.0    1\n",
       "NaN    1\n",
       "dtype: int64"
      ]
     },
     "execution_count": 16,
     "metadata": {},
     "output_type": "execute_result"
    }
   ],
   "source": [
    "x2.value_counts(dropna=False) #NAN count "
   ]
  },
  {
   "cell_type": "code",
   "execution_count": null,
   "id": "0d1d9d07",
   "metadata": {},
   "outputs": [],
   "source": []
  }
 ],
 "metadata": {
  "kernelspec": {
   "display_name": "Python 3 (ipykernel)",
   "language": "python",
   "name": "python3"
  },
  "language_info": {
   "codemirror_mode": {
    "name": "ipython",
    "version": 3
   },
   "file_extension": ".py",
   "mimetype": "text/x-python",
   "name": "python",
   "nbconvert_exporter": "python",
   "pygments_lexer": "ipython3",
   "version": "3.10.7"
  }
 },
 "nbformat": 4,
 "nbformat_minor": 5
}
